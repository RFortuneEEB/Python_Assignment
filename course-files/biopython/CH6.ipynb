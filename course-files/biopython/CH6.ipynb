{
 "cells": [
  {
   "cell_type": "code",
   "execution_count": 1,
   "metadata": {},
   "outputs": [],
   "source": [
    "from Bio.Seq import Seq\n",
    "from Bio.Alphabet import IUPAC"
   ]
  },
  {
   "cell_type": "code",
   "execution_count": 2,
   "metadata": {},
   "outputs": [
    {
     "data": {
      "text/plain": [
       "Seq('AGTACACTGGT', IUPACUnambiguousDNA())"
      ]
     },
     "execution_count": 2,
     "metadata": {},
     "output_type": "execute_result"
    }
   ],
   "source": [
    "my_seq = Seq(\"AGTACACTGGT\", IUPAC.unambiguous_dna)\n",
    "my_seq"
   ]
  },
  {
   "cell_type": "code",
   "execution_count": 4,
   "metadata": {},
   "outputs": [
    {
     "data": {
      "text/plain": [
       "Seq('AGTACACTGGT', IUPACProtein())"
      ]
     },
     "execution_count": 4,
     "metadata": {},
     "output_type": "execute_result"
    }
   ],
   "source": [
    "my_prot = Seq(\"AGTACACTGGT\", IUPAC.protein)\n",
    "my_prot"
   ]
  },
  {
   "cell_type": "code",
   "execution_count": 6,
   "metadata": {},
   "outputs": [],
   "source": [
    "from Bio.SeqRecord import SeqRecord\n",
    "simple_seq = Seq(\"GATC\")\n",
    "simple_seq_r = SeqRecord(simple_seq)"
   ]
  },
  {
   "cell_type": "code",
   "execution_count": 9,
   "metadata": {},
   "outputs": [
    {
     "name": "stdout",
     "output_type": "stream",
     "text": [
      "ID: <unknown id>\n",
      "Name: <unknown name>\n",
      "Description: <unknown description>\n",
      "Number of features: 0\n",
      "Seq('GATC')\n"
     ]
    }
   ],
   "source": [
    "print(simple_seq_r)"
   ]
  },
  {
   "cell_type": "code",
   "execution_count": 10,
   "metadata": {},
   "outputs": [
    {
     "name": "stdout",
     "output_type": "stream",
     "text": [
      "ID: AC12345\n",
      "Name: <unknown name>\n",
      "Description: This sequence is pretend.\n",
      "Number of features: 0\n",
      "Seq('GATC')\n"
     ]
    }
   ],
   "source": [
    "simple_seq_r.id = \"AC12345\"\n",
    "simple_seq_r.description = \"This sequence is pretend.\"\n",
    "print(simple_seq_r)"
   ]
  },
  {
   "cell_type": "code",
   "execution_count": 1,
   "metadata": {},
   "outputs": [
    {
     "data": {
      "text/plain": [
       "SeqRecord(seq=Seq('TGTAACGAACGGTGCAATAGTGATCCACACCCAACGCCTGAAATCAGATCCAGG...CTG', SingleLetterAlphabet()), id='gi|45478711|ref|NC_005816.1|', name='gi|45478711|ref|NC_005816.1|', description='gi|45478711|ref|NC_005816.1| Yersinia pestis biovar Microtus str. 91001 plasmid pPCP1, complete sequence', dbxrefs=[])"
      ]
     },
     "execution_count": 1,
     "metadata": {},
     "output_type": "execute_result"
    }
   ],
   "source": [
    "from Bio import SeqIO\n",
    "record = SeqIO.read(\"NC_005816.fna\", \"fasta\")\n",
    "record"
   ]
  },
  {
   "cell_type": "code",
   "execution_count": 2,
   "metadata": {},
   "outputs": [
    {
     "data": {
      "text/plain": [
       "9609"
      ]
     },
     "execution_count": 2,
     "metadata": {},
     "output_type": "execute_result"
    }
   ],
   "source": [
    "len(record.seq)"
   ]
  },
  {
   "cell_type": "code",
   "execution_count": 6,
   "metadata": {},
   "outputs": [
    {
     "name": "stdout",
     "output_type": "stream",
     "text": [
      "CCCTTCTTGTCTTCAGCGTTTCTCC\n"
     ]
    }
   ],
   "source": [
    "handle = open(\"example.fasta\", \"r\") \n",
    "seq_list = list(SeqIO.parse(handle, \"fasta\"))\n",
    "handle.close()\n",
    "print(seq_list[0].seq)"
   ]
  },
  {
   "cell_type": "code",
   "execution_count": 9,
   "metadata": {},
   "outputs": [
    {
     "name": "stdout",
     "output_type": "stream",
     "text": [
      "TTGGCAGGCCAAGGCCGATGGATCA\n"
     ]
    }
   ],
   "source": [
    "print(seq_list[1].seq)"
   ]
  },
  {
   "cell_type": "code",
   "execution_count": 10,
   "metadata": {},
   "outputs": [],
   "source": [
    "from Bio import Entrez\n",
    "Entrez.email = \"rfortune@iastate.edu\""
   ]
  },
  {
   "cell_type": "code",
   "execution_count": 19,
   "metadata": {},
   "outputs": [
    {
     "name": "stdout",
     "output_type": "stream",
     "text": [
      "ID: DQ137224.1\n",
      "Name: DQ137224\n",
      "Description: Megadyptes antipodes voucher JD64A cytochrome b (cytb) gene, partial cds; mitochondrial\n",
      "Number of features: 3\n",
      "/molecule_type=DNA\n",
      "/topology=linear\n",
      "/data_file_division=VRT\n",
      "/date=26-JUL-2016\n",
      "/accessions=['DQ137224']\n",
      "/sequence_version=1\n",
      "/keywords=['']\n",
      "/source=mitochondrion Megadyptes antipodes (Yellow-eyed penguin)\n",
      "/organism=Megadyptes antipodes\n",
      "/taxonomy=['Eukaryota', 'Metazoa', 'Chordata', 'Craniata', 'Vertebrata', 'Euteleostomi', 'Archelosauria', 'Archosauria', 'Dinosauria', 'Saurischia', 'Theropoda', 'Coelurosauria', 'Aves', 'Neognathae', 'Sphenisciformes', 'Spheniscidae', 'Megadyptes']\n",
      "/references=[Reference(title='Multiple gene evidence for expansion of extant penguins out of Antarctica due to global cooling', ...), Reference(title='Direct Submission', ...)]\n",
      "Seq('ACACAAATTCTAACTGGCCTCCTACTGGCCGCCCACTACACTGCAGACACAACC...AGC', IUPACAmbiguousDNA())\n"
     ]
    }
   ],
   "source": [
    "handle = Entrez.efetch(db=\"nucleotide\", id=\"DQ137224\", rettype=\"gb\", retmode=\"text\")\n",
    "record = SeqIO.read(handle, \"genbank\")\n",
    "print(record)"
   ]
  },
  {
   "cell_type": "code",
   "execution_count": 20,
   "metadata": {},
   "outputs": [
    {
     "name": "stdout",
     "output_type": "stream",
     "text": [
      "ACACAAATTCTAACTGGCCTCCTACTGGCCGCCCACTACACTGCAGACACAACCCTAGCCTTCTCCTCCGTTGCCCACACATGCCGAAACGTACAGTACGGCTGACTAATCCGCAACCTACATGCAAACGGGGCCTCATTCTTCTTCATCTGCATCTACCTCCACATTGGCCGCGGACTCTACTACGGCTCCTACCTGTACAAAGAAACCTGAAACACAGGCATCATCCTCCTGCTTACCCTCATAGCAACCGCCTTCGTAGGCTATGTCCTGCCATGGGGCCAAATATCCTTCTGAGGGGCTACAGTCATCACCAACCTATTCTCAGCCATCCCCTATATCGGCCAAACTCTCGTAGAATGAGCCTGAGGCGGCTTCTCAGTAGACAACCCCACACTAACCCGATTCTTCACACTACACTTCCTTCTCCCCTTCATAATTGCAGGCCTCACCCTAATCCACCTCACCTTCCTTCACGAATCAGGCTCAAACAACCCACTAGGCATCGTAGCCAACTCTGACAAAATCCCATTCCACCCCTACTACTCCACAAAAGACATCCTAGGATTTATTCTCCTACTCCTTCCACTGGCAGCCCTCGCCCTATCCTCACCCAACCTGCTAGGGGACCCAGAAAATTTCACCCCAGCAAACCCCCTAGTCACACCCCCACATATCAAACCAGAATGATACTTCCTATTTGCATACGCCATCCTACGCTCAATCCCCAACAAGCTGGGGGGAGTCCTAGCCCTAGCAGCATCCGTACTAGTCCTATTCCTAATCCCCCTCCTCCACAAATCCAAGCAACGTACAATAACCTTCCGCCCCCTCTCCCAACTTCTATTCTGAACCCTAGTGGCCAACCTCACCATCCTAACATGAATCGGCAGCCAACCAGTAGAGCACCCCTTCATCATCATCGGCCAGCTAGCCTCCCTCACCTACTTCACCATCCTCCTAATCCTCTTCCCCCTTATCGGGGCCCTAGAAAACAAAATACTCAGC\n"
     ]
    }
   ],
   "source": [
    "print(record.seq)"
   ]
  },
  {
   "cell_type": "code",
   "execution_count": 24,
   "metadata": {},
   "outputs": [],
   "source": [
    "from Bio.Blast import NCBIWWW"
   ]
  },
  {
   "cell_type": "code",
   "execution_count": 25,
   "metadata": {},
   "outputs": [
    {
     "name": "stdout",
     "output_type": "stream",
     "text": [
      "Help on function qblast in module Bio.Blast.NCBIWWW:\n",
      "\n",
      "qblast(program, database, sequence, url_base='https://blast.ncbi.nlm.nih.gov/Blast.cgi', auto_format=None, composition_based_statistics=None, db_genetic_code=None, endpoints=None, entrez_query='(none)', expect=10.0, filter=None, gapcosts=None, genetic_code=None, hitlist_size=50, i_thresh=None, layout=None, lcase_mask=None, matrix_name=None, nucl_penalty=None, nucl_reward=None, other_advanced=None, perc_ident=None, phi_pattern=None, query_file=None, query_believe_defline=None, query_from=None, query_to=None, searchsp_eff=None, service=None, threshold=None, ungapped_alignment=None, word_size=None, short_query=None, alignments=500, alignment_view=None, descriptions=500, entrez_links_new_window=None, expect_low=None, expect_high=None, format_entrez_query=None, format_object=None, format_type='XML', ncbi_gi=None, results_file=None, show_overview=None, megablast=None, template_type=None, template_length=None)\n",
      "    BLAST search using NCBI's QBLAST server or a cloud service provider.\n",
      "    \n",
      "    Supports all parameters of the old qblast API for Put and Get.\n",
      "    \n",
      "    Please note that NCBI uses the new Common URL API for BLAST searches\n",
      "    on the internet (http://ncbi.github.io/blast-cloud/dev/api.html). Thus,\n",
      "    some of the parameters used by this function are not (or are no longer)\n",
      "    officially supported by NCBI. Although they are still functioning, this\n",
      "    may change in the future.\n",
      "    \n",
      "    The Common URL API (http://ncbi.github.io/blast-cloud/dev/api.html) allows\n",
      "    doing BLAST searches on cloud servers. To use this feature, please set\n",
      "    ``url_base='http://host.my.cloud.service.provider.com/cgi-bin/blast.cgi'``\n",
      "    and ``format_object='Alignment'``. For more details, please see\n",
      "    https://blast.ncbi.nlm.nih.gov/Blast.cgi?PAGE_TYPE=BlastDocs&DOC_TYPE=CloudBlast\n",
      "    \n",
      "    Some useful parameters:\n",
      "    \n",
      "     - program        blastn, blastp, blastx, tblastn, or tblastx (lower case)\n",
      "     - database       Which database to search against (e.g. \"nr\").\n",
      "     - sequence       The sequence to search.\n",
      "     - ncbi_gi        TRUE/FALSE whether to give 'gi' identifier.\n",
      "     - descriptions   Number of descriptions to show.  Def 500.\n",
      "     - alignments     Number of alignments to show.  Def 500.\n",
      "     - expect         An expect value cutoff.  Def 10.0.\n",
      "     - matrix_name    Specify an alt. matrix (PAM30, PAM70, BLOSUM80, BLOSUM45).\n",
      "     - filter         \"none\" turns off filtering.  Default no filtering\n",
      "     - format_type    \"HTML\", \"Text\", \"ASN.1\", or \"XML\".  Def. \"XML\".\n",
      "     - entrez_query   Entrez query to limit Blast search\n",
      "     - hitlist_size   Number of hits to return. Default 50\n",
      "     - megablast      TRUE/FALSE whether to use MEga BLAST algorithm (blastn only)\n",
      "     - short_query    TRUE/FALSE whether to adjust the search parameters for a\n",
      "                      short query sequence. Note that this will override\n",
      "                      manually set parameters like word size and e value. Turns\n",
      "                      off when sequence length is > 30 residues. Default: None.\n",
      "     - service        plain, psi, phi, rpsblast, megablast (lower case)\n",
      "    \n",
      "    This function does no checking of the validity of the parameters\n",
      "    and passes the values to the server as is.  More help is available at:\n",
      "    https://ncbi.github.io/blast-cloud/dev/api.html\n",
      "\n"
     ]
    }
   ],
   "source": [
    "help(NCBIWWW.qblast)"
   ]
  },
  {
   "cell_type": "code",
   "execution_count": 26,
   "metadata": {},
   "outputs": [],
   "source": [
    "query = SeqIO.read(\"test.fasta\", format=\"fasta\")"
   ]
  },
  {
   "cell_type": "code",
   "execution_count": 27,
   "metadata": {},
   "outputs": [],
   "source": [
    "result_handle = NCBIWWW.qblast(\"blastn\", \"nt\", query.seq)"
   ]
  },
  {
   "cell_type": "code",
   "execution_count": 28,
   "metadata": {},
   "outputs": [
    {
     "data": {
      "text/plain": [
       "143548"
      ]
     },
     "execution_count": 28,
     "metadata": {},
     "output_type": "execute_result"
    }
   ],
   "source": [
    "blast_file = open(\"my_blast.xml\", \"w\")\n",
    "blast_file.write(result_handle.read())"
   ]
  },
  {
   "cell_type": "code",
   "execution_count": 29,
   "metadata": {},
   "outputs": [],
   "source": [
    "blast_file.close()\n",
    "result_handle.close()"
   ]
  },
  {
   "cell_type": "code",
   "execution_count": 30,
   "metadata": {},
   "outputs": [],
   "source": [
    "from Bio.Blast import NCBIXML\n",
    "handle = open(\"my_blast.xml\")\n",
    "blast_record = NCBIXML.read(handle)"
   ]
  },
  {
   "cell_type": "code",
   "execution_count": 31,
   "metadata": {},
   "outputs": [
    {
     "name": "stdout",
     "output_type": "stream",
     "text": [
      "gi|1105484513|ref|XM_002284686.3| PREDICTED: Vitis vinifera cold-regulated 413 plasma membrane protein 2 (LOC100248690), mRNA\n",
      "0.0\n",
      "gi|1420088022|gb|MG722853.1| Vitis vinifera cold-regulated 413 inner membrane protein 2 mRNA, complete cds\n",
      "0.0\n",
      "gi|123704572|emb|AM483681.1| Vitis vinifera, whole genome shotgun sequence, contig VV78X045699.9, clone ENTAV 115\n",
      "0.0\n",
      "gi|1217007653|ref|XM_021787586.1| PREDICTED: Hevea brasiliensis cold-regulated 413 plasma membrane protein 2-like (LOC110637472), transcript variant X3, mRNA\n",
      "9.95421e-151\n",
      "gi|1217007651|ref|XM_021787585.1| PREDICTED: Hevea brasiliensis cold-regulated 413 plasma membrane protein 2-like (LOC110637472), transcript variant X2, mRNA\n",
      "9.95421e-151\n",
      "gi|1217007649|ref|XM_021787584.1| PREDICTED: Hevea brasiliensis cold-regulated 413 plasma membrane protein 2-like (LOC110637472), transcript variant X1, mRNA\n",
      "3.47436e-150\n",
      "gi|1204934028|ref|XM_021444654.1| PREDICTED: Herrania umbratica cold-regulated 413 plasma membrane protein 1 (LOC110428735), mRNA\n",
      "3.47436e-150\n",
      "gi|1063468601|ref|XM_007041315.2| PREDICTED: Theobroma cacao cold-regulated 413 plasma membrane protein 1 (LOC18607254), transcript variant X2, mRNA\n",
      "1.47734e-148\n",
      "gi|1063468599|ref|XM_018115056.1| PREDICTED: Theobroma cacao cold-regulated 413 plasma membrane protein 1 (LOC18607254), transcript variant X1, mRNA\n",
      "1.47734e-148\n",
      "gi|1269953414|ref|XM_022870894.1| PREDICTED: Durio zibethinus cold-regulated 413 plasma membrane protein 2-like (LOC111282690), transcript variant X5, mRNA\n",
      "7.65279e-146\n",
      "gi|1269953413|ref|XR_002689266.1| PREDICTED: Durio zibethinus cold-regulated 413 plasma membrane protein 2-like (LOC111282690), transcript variant X4, misc_RNA\n",
      "7.65279e-146\n",
      "gi|1269953412|ref|XR_002689265.1| PREDICTED: Durio zibethinus cold-regulated 413 plasma membrane protein 2-like (LOC111282690), transcript variant X3, misc_RNA\n",
      "7.65279e-146\n",
      "gi|1269953411|ref|XR_002689264.1| PREDICTED: Durio zibethinus cold-regulated 413 plasma membrane protein 2-like (LOC111282690), transcript variant X2, misc_RNA\n",
      "7.65279e-146\n",
      "gi|1269953410|ref|XR_002689262.1| PREDICTED: Durio zibethinus cold-regulated 413 plasma membrane protein 2-like (LOC111282690), transcript variant X1, misc_RNA\n",
      "7.65279e-146\n",
      "gi|1269952460|ref|XM_022870374.1| PREDICTED: Durio zibethinus cold-regulated 413 plasma membrane protein 2-like (LOC111282334), mRNA\n",
      "7.65279e-146\n",
      "gi|118483999|gb|EF145756.1| Populus trichocarpa clone WS0113_D05 unknown mRNA\n",
      "2.67109e-145\n",
      "gi|160950966|emb|CU229055.1| Populus EST from severe drought-stressed leaves\n",
      "3.25405e-144\n",
      "gi|1173795212|ref|XM_012213928.2| PREDICTED: Jatropha curcas cold-regulated 413 plasma membrane protein 1 (LOC105631756), mRNA\n",
      "1.13577e-143\n",
      "gi|1375852411|ref|XM_002305370.3| PREDICTED: Populus trichocarpa cold-regulated 413 plasma membrane protein 1 (LOC7480606), mRNA\n",
      "3.96424e-143\n",
      "gi|118488746|gb|EF148204.1| Populus trichocarpa clone WS0128_L02 unknown mRNA\n",
      "3.96424e-143\n",
      "gi|118484281|gb|EF145905.1| Populus trichocarpa clone WS0114_D02 unknown mRNA\n",
      "3.96424e-143\n",
      "gi|1216314789|ref|XM_021744088.1| PREDICTED: Manihot esculenta cold-regulated 413 plasma membrane protein 2-like (LOC110605487), mRNA\n",
      "1.38366e-142\n",
      "gi|743794186|ref|XM_011001250.1| PREDICTED: Populus euphratica cold-regulated 413 plasma membrane protein 1-like (LOC105107354), mRNA\n",
      "1.68564e-141\n",
      "gi|1375880952|ref|XM_002313788.3| PREDICTED: Populus trichocarpa cold-regulated 413 plasma membrane protein 1 (LOC7456406), mRNA\n",
      "1.68564e-141\n",
      "gi|147793091|emb|AM483679.2| Vitis vinifera contig VV78X174607.9, whole genome shotgun sequence\n",
      "5.88346e-141\n",
      "gi|1269903060|ref|XM_022907078.1| PREDICTED: Durio zibethinus cold-regulated 413 plasma membrane protein 1-like (LOC111308612), transcript variant X2, mRNA\n",
      "2.05353e-140\n",
      "gi|1269903058|ref|XM_022907077.1| PREDICTED: Durio zibethinus cold-regulated 413 plasma membrane protein 1-like (LOC111308612), transcript variant X1, mRNA\n",
      "2.05353e-140\n",
      "gi|1389633563|ref|XM_006479288.3| PREDICTED: Citrus sinensis cold-regulated 413 plasma membrane protein 1 (LOC102614347), mRNA\n",
      "7.16752e-140\n",
      "gi|1350324604|ref|XM_006423100.2| PREDICTED: Citrus clementina cold-regulated 413 plasma membrane protein 1 (LOC18035610), mRNA\n",
      "7.16752e-140\n",
      "gi|156567558|gb|EU077497.1| Poncirus trifoliata cold acclimation WCOR413-like protein mRNA, complete cds\n",
      "3.04771e-138\n",
      "gi|160954667|emb|CU225096.1| Populus EST from leave\n",
      "1.29592e-136\n",
      "gi|743885577|ref|XM_011039297.1| PREDICTED: Populus euphratica cold-regulated 413 plasma membrane protein 1-like (LOC105134757), mRNA\n",
      "5.51038e-135\n",
      "gi|1227922101|ref|XM_022041041.1| PREDICTED: Carica papaya cold-regulated 413 plasma membrane protein 1 (LOC110813780), transcript variant X2, mRNA\n",
      "6.71302e-134\n",
      "gi|1227922099|ref|XM_022041040.1| PREDICTED: Carica papaya cold-regulated 413 plasma membrane protein 1 (LOC110813780), transcript variant X1, mRNA\n",
      "6.71302e-134\n",
      "gi|305690597|gb|HQ010041.1| Corylus heterophylla COR413-PM1 mRNA, complete cds\n",
      "8.17813e-133\n",
      "gi|160950387|emb|CU223238.1| Populus EST from leave\n",
      "4.23638e-130\n",
      "gi|1343998743|ref|XM_024025793.1| PREDICTED: Quercus suber cold-regulated 413 plasma membrane protein 2-like (LOC111993950), mRNA\n",
      "6.28734e-128\n",
      "gi|1098767945|ref|XM_018991598.1| PREDICTED: Juglans regia cold-regulated 413 plasma membrane protein 2-like (LOC109010700), mRNA\n",
      "6.28734e-128\n",
      "gi|1162576091|ref|XM_007200475.2| PREDICTED: Prunus persica cold-regulated 413 plasma membrane protein 1 (LOC18767061), mRNA\n",
      "7.65955e-127\n",
      "gi|1391293607|ref|XM_002519075.3| PREDICTED: Ricinus communis cold-regulated 413 plasma membrane protein 2 (LOC8275578), mRNA\n",
      "1.38488e-123\n",
      "gi|1279097306|ref|XM_023005269.1| PREDICTED: Olea europaea var. sylvestris cold-regulated 413 plasma membrane protein 2-like (LOC111381484), mRNA\n",
      "5.88866e-122\n",
      "gi|1279001367|ref|XM_023005209.1| PREDICTED: Olea europaea var. sylvestris cold-regulated 413 plasma membrane protein 2-like (LOC111381429), transcript variant X1, mRNA\n",
      "5.88866e-122\n",
      "gi|1389548659|ref|XM_016047409.2| PREDICTED: Ziziphus jujuba cold-regulated 413 plasma membrane protein 2-like (LOC107435780), mRNA\n",
      "7.17385e-121\n",
      "gi|1389547895|ref|XM_016047201.2| PREDICTED: Ziziphus jujuba cold-regulated 413 plasma membrane protein 2-like (LOC107435567), mRNA\n",
      "7.17385e-121\n",
      "gi|823256350|ref|XM_012605368.1| PREDICTED: Gossypium raimondii cold-regulated 413 plasma membrane protein 2-like (LOC105780848), mRNA\n",
      "8.73954e-120\n",
      "gi|1050586175|ref|XM_017758913.1| PREDICTED: Gossypium arboreum cold-regulated 413 plasma membrane protein 2-like (LOC108459527), mRNA\n",
      "1.06469e-118\n",
      "gi|1027107741|ref|XM_008238505.2| PREDICTED: Prunus mume cold-regulated 413 plasma membrane protein 1-like (LOC103335494), mRNA\n",
      "1.06469e-118\n",
      "gi|1632219876|ref|XM_008389111.3| PREDICTED: Malus domestica cold-regulated 413 plasma membrane protein 1-like (LOC103449792), mRNA\n",
      "3.71615e-118\n",
      "gi|1029031852|ref|XM_016824225.1| PREDICTED: Gossypium hirsutum cold-regulated 413 plasma membrane protein 2-like (LOC107898702), mRNA\n",
      "5.51525e-116\n",
      "gi|1028975648|ref|XM_016875784.1| PREDICTED: Gossypium hirsutum cold-regulated 413 plasma membrane protein 2-like (LOC107942145), mRNA\n",
      "5.51525e-116\n"
     ]
    }
   ],
   "source": [
    "for hit in blast_record.descriptions: \n",
    "    print(hit.title)\n",
    "    print(hit.e)"
   ]
  },
  {
   "cell_type": "code",
   "execution_count": 32,
   "metadata": {},
   "outputs": [
    {
     "name": "stdout",
     "output_type": "stream",
     "text": [
      "gi|1105484513|ref|XM_002284686.3| PREDICTED: Vitis vinifera cold-regulated 413 plasma membrane protein 2 (LOC100248690), mRNA\n",
      "0.0\n",
      "TACTCTACAGTCTCTGACTTTGTAAGCTTCGCGCTTCTTCTCCTTTTTCTCTCTGGGGAAAGATTTTCCCTTTCT...\n",
      "|||||||||||||||||||||||||||||||||||||||||||||||||||||||||||||||||||||||||||...\n",
      "TACTCTACAGTCTCTGACTTTGTAAGCTTCGCGCTTCTTCTCCTTTTTCTCTCTGGGGAAAGATTTTCCCTTTCT...\n",
      "gi|1420088022|gb|MG722853.1| Vitis vinifera cold-regulated 413 inner membrane protein 2 mRNA, complete cds\n",
      "0.0\n",
      "ATGGGGAAAAAGGGTTACTTGGCGATGAGGACTGACACTGATACTACTGATTTGATCAGTTCTGATCTCAGAGAC...\n",
      "||||||||||||||||||||||||||||||||||||||| |||||||||||||||||||||||||||||||||||...\n",
      "ATGGGGAAAAAGGGTTACTTGGCGATGAGGACTGACACTTATACTACTGATTTGATCAGTTCTGATCTCAGAGAC...\n",
      "gi|123704572|emb|AM483681.1| Vitis vinifera, whole genome shotgun sequence, contig VV78X045699.9, clone ENTAV 115\n",
      "0.0\n",
      "CAGATTGGCTGGAAATGCCTGCAGCTTTGATTCTTGTTATAGTGGTGGCTCCCAGCTTGTTTTCGAGCACTATAA...\n",
      "||||||||||||||||||| ||||||||||||||| |||||||||||||||||||||||||||||||||||||||...\n",
      "CAGATTGGCTGGAAATGCCGGCAGCTTTGATTCTTCTTATAGTGGTGGCTCCCAGCTTGTTTTCGAGCACTATAA...\n",
      "gi|123704572|emb|AM483681.1| Vitis vinifera, whole genome shotgun sequence, contig VV78X045699.9, clone ENTAV 115\n",
      "7.16752e-140\n",
      "TACTCTACAGTCTCTGACTTTGTAAGCTTCGCGCTTCTTCTCCTTTTTCTCTCTGGGGAAAGATTTTCCCTTTCT...\n",
      "||||||||||||||||||||||||||||||||||||| |||||||||||||||||||||||||||||||||||||...\n",
      "TACTCTACAGTCTCTGACTTTGTAAGCTTCGCGCTTCATCTCCTTTTTCTCTCTGGGGAAAGATTTTCCCTTTCT...\n",
      "gi|123704572|emb|AM483681.1| Vitis vinifera, whole genome shotgun sequence, contig VV78X045699.9, clone ENTAV 115\n",
      "2.06262e-45\n",
      "TTATTTATTAATCTTGGATCGAACAAACTGGAAGACAAACATCCTTACGGCACTTCTAATCCCTTACATTTTCTT...\n",
      "|||||||||||||||||||||||||||||||||||||||||||||||||||||||||||||||||||||||||||...\n",
      "TTATTTATTAATCTTGGATCGAACAAACTGGAAGACAAACATCCTTACGGCACTTCTAATCCCTTACATTTTCTT...\n",
      "gi|123704572|emb|AM483681.1| Vitis vinifera, whole genome shotgun sequence, contig VV78X045699.9, clone ENTAV 115\n",
      "2.515e-25\n",
      "CAGTGGTCAGGTTGGAAAATGGATTGCTTTTATTGCTGTAGTGCTGCGCCTCTTCTTCCCAAAACGTTTCCCAG...\n",
      "|||||||||||||||||||||||||||||||||||| |||||||||||||||||||||||||||||||||||||...\n",
      "CAGTGGTCAGGTTGGAAAATGGATTGCTTTTATTGCCGTAGTGCTGCGCCTCTTCTTCCCAAAACGTTTCCCAG...\n",
      "gi|1217007653|ref|XM_021787586.1| PREDICTED: Hevea brasiliensis cold-regulated 413 plasma membrane protein 2-like (LOC110637472), transcript variant X3, mRNA\n",
      "9.95421e-151\n",
      "GAAGATGGGGAAAAAGGGTTACTTGGCGATGAGGACTGACACTGATACTACTGATTTGATCAGTTCTGATCTCAG...\n",
      "||| ||||| || ||  | ||| |||| |||||||| ||    || || | ||| | |||   ||| ||| ||| ...\n",
      "GAAAATGGGAAAGAAAAGCTACCTGGCAATGAGGACAGATCAAGAAACCAGTGACTCGATTGTTTCAGATATCAA...\n",
      "gi|1217007651|ref|XM_021787585.1| PREDICTED: Hevea brasiliensis cold-regulated 413 plasma membrane protein 2-like (LOC110637472), transcript variant X2, mRNA\n",
      "9.95421e-151\n",
      "GAAGATGGGGAAAAAGGGTTACTTGGCGATGAGGACTGACACTGATACTACTGATTTGATCAGTTCTGATCTCAG...\n",
      "||| ||||| || ||  | ||| |||| |||||||| ||    || || | ||| | |||   ||| ||| ||| ...\n",
      "GAAAATGGGAAAGAAAAGCTACCTGGCAATGAGGACAGATCAAGAAACCAGTGACTCGATTGTTTCAGATATCAA...\n",
      "gi|1217007649|ref|XM_021787584.1| PREDICTED: Hevea brasiliensis cold-regulated 413 plasma membrane protein 2-like (LOC110637472), transcript variant X1, mRNA\n",
      "3.47436e-150\n",
      "AAGATGGGGAAAAAGGGTTACTTGGCGATGAGGACTGACACTGATACTACTGATTTGATCAGTTCTGATCTCAGA...\n",
      "|| ||||| || ||  | ||| |||| |||||||| ||    || || | ||| | |||   ||| ||| ||| |...\n",
      "AAAATGGGAAAGAAAAGCTACCTGGCAATGAGGACAGATCAAGAAACCAGTGACTCGATTGTTTCAGATATCAAA...\n",
      "gi|1204934028|ref|XM_021444654.1| PREDICTED: Herrania umbratica cold-regulated 413 plasma membrane protein 1 (LOC110428735), mRNA\n",
      "3.47436e-150\n",
      "GAGGAGATTGAA----GATGGGGAAAAAGGGTTACTTGGCGATGAGGACTGACACTGATACTACTGATTTGATCA...\n",
      "|||||||  |||    ||||||||| ||| ||   ||||| |||||| ||||    ||  | | |||| ||||||...\n",
      "GAGGAGAAGGAAAAATGATGGGGAAGAAGAGTGTTTTGGCAATGAGGGCTGAGCAAGAAGCAAGTGATCTGATCA...\n",
      "gi|1063468601|ref|XM_007041315.2| PREDICTED: Theobroma cacao cold-regulated 413 plasma membrane protein 1 (LOC18607254), transcript variant X2, mRNA\n",
      "1.47734e-148\n",
      "GAGGAGATTGAA----GATGGGGAAAAAGGGTTACTTGGCGATGAGGACTGACACTGATACTACTGATTTGATCA...\n",
      "|||||||  |||    ||||||||| ||| |||  ||||| |||||| ||||    ||  | | |||| ||||||...\n",
      "GAGGAGAAGGAAAAATGATGGGGAAGAAGAGTTTTTTGGCAATGAGGGCTGAGCAGGAAGCAAGTGATCTGATCA...\n",
      "gi|1063468599|ref|XM_018115056.1| PREDICTED: Theobroma cacao cold-regulated 413 plasma membrane protein 1 (LOC18607254), transcript variant X1, mRNA\n",
      "1.47734e-148\n",
      "GAGGAGATTGAA----GATGGGGAAAAAGGGTTACTTGGCGATGAGGACTGACACTGATACTACTGATTTGATCA...\n",
      "|||||||  |||    ||||||||| ||| |||  ||||| |||||| ||||    ||  | | |||| ||||||...\n",
      "GAGGAGAAGGAAAAATGATGGGGAAGAAGAGTTTTTTGGCAATGAGGGCTGAGCAGGAAGCAAGTGATCTGATCA...\n",
      "gi|1269953414|ref|XM_022870894.1| PREDICTED: Durio zibethinus cold-regulated 413 plasma membrane protein 2-like (LOC111282690), transcript variant X5, mRNA\n",
      "7.65279e-146\n",
      "GATGGGGAAAAAGGGTTACTTGGCGATGAGGACTGACACTGATACTACTGATTTGATCAGTTCTGATCTCAGAGA...\n",
      "|||||| || |||  ||| ||||| |||| ||||||    ||  | | |||| |||||||||||||| ||| |||...\n",
      "GATGGGAAAGAAGACTTATTTGGCAATGAAGACTGAGCAAGAAGCAAGTGATCTGATCAGTTCTGATTTCAAAGA...\n",
      "gi|1269953413|ref|XR_002689266.1| PREDICTED: Durio zibethinus cold-regulated 413 plasma membrane protein 2-like (LOC111282690), transcript variant X4, misc_RNA\n",
      "7.65279e-146\n",
      "GATGGGGAAAAAGGGTTACTTGGCGATGAGGACTGACACTGATACTACTGATTTGATCAGTTCTGATCTCAGAGA...\n",
      "|||||| || |||  ||| ||||| |||| ||||||    ||  | | |||| |||||||||||||| ||| |||...\n",
      "GATGGGAAAGAAGACTTATTTGGCAATGAAGACTGAGCAAGAAGCAAGTGATCTGATCAGTTCTGATTTCAAAGA...\n",
      "gi|1269953412|ref|XR_002689265.1| PREDICTED: Durio zibethinus cold-regulated 413 plasma membrane protein 2-like (LOC111282690), transcript variant X3, misc_RNA\n",
      "7.65279e-146\n",
      "GATGGGGAAAAAGGGTTACTTGGCGATGAGGACTGACACTGATACTACTGATTTGATCAGTTCTGATCTCAGAGA...\n",
      "|||||| || |||  ||| ||||| |||| ||||||    ||  | | |||| |||||||||||||| ||| |||...\n",
      "GATGGGAAAGAAGACTTATTTGGCAATGAAGACTGAGCAAGAAGCAAGTGATCTGATCAGTTCTGATTTCAAAGA...\n",
      "gi|1269953411|ref|XR_002689264.1| PREDICTED: Durio zibethinus cold-regulated 413 plasma membrane protein 2-like (LOC111282690), transcript variant X2, misc_RNA\n",
      "7.65279e-146\n",
      "GATGGGGAAAAAGGGTTACTTGGCGATGAGGACTGACACTGATACTACTGATTTGATCAGTTCTGATCTCAGAGA...\n",
      "|||||| || |||  ||| ||||| |||| ||||||    ||  | | |||| |||||||||||||| ||| |||...\n",
      "GATGGGAAAGAAGACTTATTTGGCAATGAAGACTGAGCAAGAAGCAAGTGATCTGATCAGTTCTGATTTCAAAGA...\n",
      "gi|1269953410|ref|XR_002689262.1| PREDICTED: Durio zibethinus cold-regulated 413 plasma membrane protein 2-like (LOC111282690), transcript variant X1, misc_RNA\n",
      "7.65279e-146\n",
      "GATGGGGAAAAAGGGTTACTTGGCGATGAGGACTGACACTGATACTACTGATTTGATCAGTTCTGATCTCAGAGA...\n",
      "|||||| || |||  ||| ||||| |||| ||||||    ||  | | |||| |||||||||||||| ||| |||...\n",
      "GATGGGAAAGAAGACTTATTTGGCAATGAAGACTGAGCAAGAAGCAAGTGATCTGATCAGTTCTGATTTCAAAGA...\n",
      "gi|1269952460|ref|XM_022870374.1| PREDICTED: Durio zibethinus cold-regulated 413 plasma membrane protein 2-like (LOC111282334), mRNA\n",
      "7.65279e-146\n",
      "GATGGGGAAAAAGGGTTACTTGGCGATGAGGACTGACACTGATACTACTGATTTGATCAGTTCTGATCTCAGAGA...\n",
      "|||||| || |||  ||| ||||| |||| ||||||    ||  | | |||| |||||||||||||| ||| |||...\n",
      "GATGGGAAAGAAGACTTATTTGGCAATGAAGACTGAGCAAGAAGCAAGTGATCTGATCAGTTCTGATTTCAAAGA...\n",
      "gi|118483999|gb|EF145756.1| Populus trichocarpa clone WS0113_D05 unknown mRNA\n",
      "2.67109e-145\n",
      "GAAAAAGGGTTACTTGGCGATGAGGACTGACACTGATA---CTACTGATTTGATCAGTTCTGATCTCAGAGACCT...\n",
      "||| || |||||||||||||||||||| ||    || |   | | ||  ||||| | ||||||| |   |||| |...\n",
      "GAAGAAAGGTTACTTGGCGATGAGGACGGATCAAGAAATGGCAAGTGGATTGATTACTTCTGATTTTCAAGACTT...\n",
      "gi|160950966|emb|CU229055.1| Populus EST from severe drought-stressed leaves\n",
      "3.25405e-144\n",
      "GGGAAAA--AGGGTTACTTGGCGATGAGGACTGACACTGATA---CTACTGATTTGATCAGTTCTGATCTCAGAG...\n",
      "|||||||  | |||||||||||||||||||  ||    || |   | | ||  ||| | | ||||||| |   ||...\n",
      "GGGAAAAGAAAGGTTACTTGGCGATGAGGAGGGATCAAGAAATGGCAAGTGGATTGCTTACTTCTGATTTTCAAG...\n",
      "gi|1173795212|ref|XM_012213928.2| PREDICTED: Jatropha curcas cold-regulated 413 plasma membrane protein 1 (LOC105631756), mRNA\n",
      "1.13577e-143\n",
      "AATGCTGCTAAGAAGCTTGCCACTCATGCCATTAAGCTTGGTGGTCTGGGCTTTGGCACTACATTTCTTGAGTGG...\n",
      "||||||||||| ||||| |||| |||||| |||| |||||||||  | || ||||| || || |||||||| |||...\n",
      "AATGCTGCTAAAAAGCTAGCCAATCATGCAATTAGGCTTGGTGGGTTAGGTTTTGGGACCACTTTTCTTGAATGG...\n",
      "gi|1375852411|ref|XM_002305370.3| PREDICTED: Populus trichocarpa cold-regulated 413 plasma membrane protein 1 (LOC7480606), mRNA\n",
      "3.96424e-143\n",
      "GATGGGGAAAAAGGGTTACTTGGCGATGAGGACTGACACTGATA---CTACTGATTTGATCAGTTCTGATCTCAG...\n",
      "|||||  || || || ||||||||||||||||  ||    || |   | | ||  ||||| | ||||||| |   ...\n",
      "GATGGAAAAGAAAGGGTACTTGGCGATGAGGAGGGATCAAGAAATGGCAAGTGGATTGATTACTTCTGATTTTCA...\n",
      "gi|118488746|gb|EF148204.1| Populus trichocarpa clone WS0128_L02 unknown mRNA\n",
      "3.96424e-143\n",
      "GATGGGGAAAAAGGGTTACTTGGCGATGAGGACTGACACTGATA---CTACTGATTTGATCAGTTCTGATCTCAG...\n",
      "|||||  || || || ||||||||||||||||  ||    || |   | | ||  ||||| | ||||||| |   ...\n",
      "GATGGAAAAGAAAGGGTACTTGGCGATGAGGAGGGATCAAGAAATGGCAAGTGGATTGATTACTTCTGATTTTCA...\n",
      "gi|118484281|gb|EF145905.1| Populus trichocarpa clone WS0114_D02 unknown mRNA\n",
      "3.96424e-143\n",
      "GATGGGGAAAAAGGGTTACTTGGCGATGAGGACTGACACTGATA---CTACTGATTTGATCAGTTCTGATCTCAG...\n",
      "|||||  || || || ||||||||||||||||  ||    || |   | | ||  ||||| | ||||||| |   ...\n",
      "GATGGAAAAGAAAGGGTACTTGGCGATGAGGAGGGATCAAGAAATGGCAAGTGGATTGATTACTTCTGATTTTCA...\n",
      "gi|1216314789|ref|XM_021744088.1| PREDICTED: Manihot esculenta cold-regulated 413 plasma membrane protein 2-like (LOC110605487), mRNA\n",
      "1.38366e-142\n",
      "GAAGATGGGGAAAAAGGGTTACTTGGCGATGAGGACTGACACTGATACTACTGATTTGATCAGTTCTGATCTCAG...\n",
      "||| |||||||| ||  | ||| |||| |||||||| ||    || || | |||  ||||   ||| ||  ||| ...\n",
      "GAAAATGGGGAAGAAAAGCTACCTGGCAATGAGGACGGAGCAAGAAACAAGTGACGTGATTGTTTCAGACATCAA...\n",
      "gi|743794186|ref|XM_011001250.1| PREDICTED: Populus euphratica cold-regulated 413 plasma membrane protein 1-like (LOC105107354), mRNA\n",
      "1.68564e-141\n",
      "AAGATGGGGAAAAAGGGTTACTTGGCGATGAGGA-----CTGACACTG-ATACTA-CTGATTTGATCAGTTCTGA...\n",
      "|||||||| || ||  ||||||||||||||||||     | |  | || | | || ||  |||| |    |||||...\n",
      "AAGATGGGAAAGAAAAGTTACTTGGCGATGAGGAGGGGTCAGGGAATGGAGAGTAGCTTGTTTGCT----TCTGA...\n",
      "gi|1375880952|ref|XM_002313788.3| PREDICTED: Populus trichocarpa cold-regulated 413 plasma membrane protein 1 (LOC7456406), mRNA\n",
      "1.68564e-141\n",
      "AAGATGGGGAAAAAGGGTTACTTGGCGATGAGGACTGA-CACTGATACTACTGAT--TTGATCAGTTCTGATCTC...\n",
      "|||||||| || ||  ||||||||||||||||||  || ||  ||    |  |    ||| |   ||||||| | ...\n",
      "AAGATGGGAAAGAAAAGTTACTTGGCGATGAGGAGGGATCAGGGAATGGAGAGTAGCTTGCTTGCTTCTGATTTT...\n",
      "gi|147793091|emb|AM483679.2| Vitis vinifera contig VV78X174607.9, whole genome shotgun sequence\n",
      "5.88346e-141\n",
      "TACTCTACAGTCTCTGACTTTGTAAGCTTCGCGCTTCTTCTCCTTTTTCTCTCTGGGGAAAGATTTTCCCTTTCT...\n",
      "|||||||||||||||||||||||||||||||||||||||||||||||||||||||||||||||||||||||||||...\n",
      "TACTCTACAGTCTCTGACTTTGTAAGCTTCGCGCTTCTTCTCCTTTTTCTCTCTGGGGAAAGATTTTCCCTTTCT...\n",
      "gi|1269903060|ref|XM_022907078.1| PREDICTED: Durio zibethinus cold-regulated 413 plasma membrane protein 1-like (LOC111308612), transcript variant X2, mRNA\n",
      "2.05353e-140\n",
      "GATGGGGAAAAAGGGTTACTTGGCGATGAGGACTGACACTGATACTACTGATTTGATCAGTTCTGATCTCAGAGA...\n",
      "|||||| || ||| ||||  |||| | |||| |||     ||  | | |||| | |||||||| ||| ||| |||...\n",
      "GATGGGAAAGAAGAGTTATGTGGCAACGAGGGCTGGGCAAGAAGCAAGTGATCTTATCAGTTCCGATTTCAAAGA...\n",
      "gi|1269903058|ref|XM_022907077.1| PREDICTED: Durio zibethinus cold-regulated 413 plasma membrane protein 1-like (LOC111308612), transcript variant X1, mRNA\n",
      "2.05353e-140\n",
      "GATGGGGAAAAAGGGTTACTTGGCGATGAGGACTGACACTGATACTACTGATTTGATCAGTTCTGATCTCAGAGA...\n",
      "|||||| || ||| ||||  |||| | |||| |||     ||  | | |||| | |||||||| ||| ||| |||...\n",
      "GATGGGAAAGAAGAGTTATGTGGCAACGAGGGCTGGGCAAGAAGCAAGTGATCTTATCAGTTCCGATTTCAAAGA...\n",
      "gi|1389633563|ref|XM_006479288.3| PREDICTED: Citrus sinensis cold-regulated 413 plasma membrane protein 1 (LOC102614347), mRNA\n",
      "7.16752e-140\n",
      "GATCGGAGGAGATTGAA------GATGGGGAAAAAGGGTTACTTGGCGATGAGGACTGACACTGATACTACTGAT...\n",
      "|||||||  ||||||||      |||||| || ||| |||| ||||| | |||  |||     |  || | ||||...\n",
      "GATCGGA--AGATTGAAAGCGATGATGGGTAAGAAGAGTTATTTGGCCACGAGAGCTGGTGGGGTGACAAGTGAT...\n",
      "gi|1350324604|ref|XM_006423100.2| PREDICTED: Citrus clementina cold-regulated 413 plasma membrane protein 1 (LOC18035610), mRNA\n",
      "7.16752e-140\n",
      "GATCGGAGGAGATTGAA------GATGGGGAAAAAGGGTTACTTGGCGATGAGGACTGACACTGATACTACTGAT...\n",
      "|||||||  ||||||||      |||||| || ||| |||| ||||| | |||  |||     |  || | ||||...\n",
      "GATCGGA--AGATTGAAAGCGATGATGGGTAAGAAGAGTTATTTGGCCACGAGAGCTGGTGGGGTGACAAGTGAT...\n",
      "gi|156567558|gb|EU077497.1| Poncirus trifoliata cold acclimation WCOR413-like protein mRNA, complete cds\n",
      "3.04771e-138\n",
      "GATCGGAGGAGATTGAA------GATGGGGAAAAAGGGTTACTTGGCGATGAGGACTGACACTGATACTACTGAT...\n",
      "|||||||  ||||||||      |||||| || ||| |||| ||||| |||||| |||     |  || | ||||...\n",
      "GATCGGA--AGATTGAAAGTGATGATGGGTAAGAAGAGTTATTTGGCCATGAGGGCTGGTGGGGTGACAAGTGAT...\n",
      "gi|160954667|emb|CU225096.1| Populus EST from leave\n",
      "1.29592e-136\n",
      "GGGAAAA--AGGGTTACTTGGCGATGAGGACTGACACTGATA---CTACTGATTTGATCAGTTCTGATCTCAGAG...\n",
      "|||||||  | |||||||||||||||||||  ||    || |   | | ||  ||| | | ||||||| |   ||...\n",
      "GGGAAAAGAAAGGTTACTTGGCGATGAGGAGGGATCAAGAAATGGCAAGTGGATTGCTTACTTCTGATTTTCAAG...\n",
      "gi|743885577|ref|XM_011039297.1| PREDICTED: Populus euphratica cold-regulated 413 plasma membrane protein 1-like (LOC105134757), mRNA\n",
      "5.51038e-135\n",
      "GATGGGGAAAAAGGGTTACTTGGCGATGAGGACTGACACTGATA---CTACTGATTTGATCAGTTCTGATCTCAG...\n",
      "|||||  || || ||||||||||| |||||||  ||    || |   | | ||  ||||| | ||||||| |   ...\n",
      "GATGGAAAAGAAAGGTTACTTGGCCATGAGGAGGGATCAAGAAATGGCAAGTGGATTGATTACTTCTGATTTTCA...\n",
      "gi|1227922101|ref|XM_022041041.1| PREDICTED: Carica papaya cold-regulated 413 plasma membrane protein 1 (LOC110813780), transcript variant X2, mRNA\n",
      "6.71302e-134\n",
      "CTGAAGATCGGAGGAGA-TTGAAGATGGGGAAAAAGGGTTACTTGGCGATGAGG--ACTGACACTGATACTACTG...\n",
      "||| ||| | ||||||  |||||||||| |||||   ||||||| || ||||||  || |  |  ||  | | ||...\n",
      "CTGGAGA-CAGAGGAGGGTTGAAGATGGCGAAAA---GTTACTTAGCAATGAGGGAACAGCAA--GAAGCCAGTG...\n",
      "gi|1227922099|ref|XM_022041040.1| PREDICTED: Carica papaya cold-regulated 413 plasma membrane protein 1 (LOC110813780), transcript variant X1, mRNA\n",
      "6.71302e-134\n",
      "CTGAAGATCGGAGGAGA-TTGAAGATGGGGAAAAAGGGTTACTTGGCGATGAGG--ACTGACACTGATACTACTG...\n",
      "||| ||| | ||||||  |||||||||| |||||   ||||||| || ||||||  || |  |  ||  | | ||...\n",
      "CTGGAGA-CAGAGGAGGGTTGAAGATGGCGAAAA---GTTACTTAGCAATGAGGGAACAGCAA--GAAGCCAGTG...\n",
      "gi|305690597|gb|HQ010041.1| Corylus heterophylla COR413-PM1 mRNA, complete cds\n",
      "8.17813e-133\n",
      "TGATCAGTTCTGATCTCAGAGACCTTGGTAATGCTGCTAAGAAGCTTGCCACTCATGCCATTAAGCTTGGTGGTC...\n",
      "||||||| |||||||| | ||| ||||| || || ||||| ||||| || || |||| |   || ||     |  ...\n",
      "TGATCAGCTCTGATCTGAAAGAGCTTGGAAACGCCGCTAAAAAGCTCGCTACCCATGTCGGCAACCTCACCAGCT...\n",
      "gi|160950387|emb|CU223238.1| Populus EST from leave\n",
      "4.23638e-130\n",
      "AAAAAGGGTTACTTGGCGATGAGGACTGACACTGATA---CTACTGATTTGATCAGTTCTGATCTCAGAGACCTT...\n",
      "||||| |||||||||||||||||||  ||    || |   | | ||  ||||| | ||||||| |   |||| ||...\n",
      "AAAAAAGGTTACTTGGCGATGAGGAGGGATCAAGAAATGGCAAGTGGATTGATTACTTCTGATTTTCAAGACTTT...\n",
      "gi|1343998743|ref|XM_024025793.1| PREDICTED: Quercus suber cold-regulated 413 plasma membrane protein 2-like (LOC111993950), mRNA\n",
      "6.28734e-128\n",
      "TCTGATCTCAGAGACCTTGGTAATGCTGCTAAGAAGCTTGCCACTCATGCCATTAAGCTTGGTGGTCTGGGCTTT...\n",
      "|||||  | | ||| ||||  || |||| ||| ||||| ||||| || | ||| ||||||||  |  | ||||||...\n",
      "TCTGACGTGAAAGATCTTGCAAACGCTGTTAAAAAGCTAGCCACCCAAGTCATCAAGCTTGGAAGCTTAGGCTTT...\n",
      "gi|1098767945|ref|XM_018991598.1| PREDICTED: Juglans regia cold-regulated 413 plasma membrane protein 2-like (LOC109010700), mRNA\n",
      "6.28734e-128\n",
      "TGATCAGTTCTGATCTCAGAGACCTTGGTAATGCTGCTAAGAAGCTTGCCACTCATGCCATTAAGCTTGGTGGTC...\n",
      "|||| || |||||||| | | | |||||  |  | || || ||| | || ||  ||||||| ||||| ||  | |...\n",
      "TGATAAGGTCTGATCTGAAACAGCTTGGATACACCGCCAAAAAGTTCGCTACCGATGCCATCAAGCTCGGCAGCC...\n",
      "gi|1162576091|ref|XM_007200475.2| PREDICTED: Prunus persica cold-regulated 413 plasma membrane protein 1 (LOC18767061), mRNA\n",
      "7.65955e-127\n",
      "GAGATTGAAGATGGGGAAAAAGGGTTACTTGGCGATGAGGACTGACACTGATACTACTGATTTGATCAGTTCTGA...\n",
      "|| |||| ||||||  ||| || | ||||||   |||| ||||||  | ||| | | ||| ||||||   || ||...\n",
      "GAAATTGGAGATGGCAAAACAGAGCTACTTGAAAATGATGACTGAATCAGATGCAAATGAATTGATCCACTCAGA...\n",
      "gi|1391293607|ref|XM_002519075.3| PREDICTED: Ricinus communis cold-regulated 413 plasma membrane protein 2 (LOC8275578), mRNA\n",
      "1.38488e-123\n",
      "AAGATGGGGAAAAAGGGTTACTTGGCGATGAGGACTGACACTGATACTACTGATTTGATCAGTTCTGATCTCAGA...\n",
      "|| ||||| || ||  |||| || || |||||||| ||    |  || |  || |||||   ||| ||| ||| |...\n",
      "AAAATGGGAAAGAAAAGTTATTTAGCAATGAGGACAGAACAAGCAACGAGCGAATTGATTGTTTCCGATATCAAA...\n",
      "gi|1279097306|ref|XM_023005269.1| PREDICTED: Olea europaea var. sylvestris cold-regulated 413 plasma membrane protein 2-like (LOC111381484), mRNA\n",
      "5.88866e-122\n",
      "AAAAAGGGTTACTTGGCGATGAGGACTGACACTGA---TACTACTGATTTGATCAGTTCTGATCTCAGAGACCTT...\n",
      "|| ||| |||| ||||| ||||  |||||  |||    | ||| ||| ||||||||||||||| | |  ||  ||...\n",
      "AAGAAGAGTTATTTGGCAATGAAAACTGATTCTGTAGCTGCTAATGAATTGATCAGTTCTGATTTTAAGGAAATT...\n",
      "gi|1279001367|ref|XM_023005209.1| PREDICTED: Olea europaea var. sylvestris cold-regulated 413 plasma membrane protein 2-like (LOC111381429), transcript variant X1, mRNA\n",
      "5.88866e-122\n",
      "TGGGGAAAAAGGG---TTACTTGGCGATGAGGACTGACACTGA---TACTACTGATTTGATCAGTTCTGATCTCA...\n",
      "||||||||||| |   ||| ||||| ||||  |||||  |||    | ||| ||| ||||||||||||||| | |...\n",
      "TGGGGAAAAAGAGGAGTTATTTGGCAATGAAAACTGATTCTGTGGCTGCTAATGAATTGATCAGTTCTGATTTGA...\n",
      "gi|1389548659|ref|XM_016047409.2| PREDICTED: Ziziphus jujuba cold-regulated 413 plasma membrane protein 2-like (LOC107435780), mRNA\n",
      "7.17385e-121\n",
      "GATTTGATCAGTTCTGATCTCAGAGACCTTGGTAATGCTGCTAAGAAGCTTGCCACTCATGCCATTAAGCTTGGT...\n",
      "|| ||| |||  |||||||||| |||||| |     |||||||| || |||||||  ||  |||| ||||||| |...\n",
      "GACTTGGTCAACTCTGATCTCAAAGACCTCGCAGCAGCTGCTAAAAACCTTGCCAACCACTCCATCAAGCTTGCT...\n",
      "gi|1389547895|ref|XM_016047201.2| PREDICTED: Ziziphus jujuba cold-regulated 413 plasma membrane protein 2-like (LOC107435567), mRNA\n",
      "7.17385e-121\n",
      "GATTTGATCAGTTCTGATCTCAGAGACCTTGGTAATGCTGCTAAGAAGCTTGCCACTCATGCCATTAAGCTTGGT...\n",
      "|| ||| |||  |||||||||| |||||| |     |||||||| || |||||||  ||  |||| ||||||| |...\n",
      "GACTTGGTCAACTCTGATCTCAAAGACCTCGCAGCAGCTGCTAAAAACCTTGCCAACCACTCCATCAAGCTTGCT...\n",
      "gi|823256350|ref|XM_012605368.1| PREDICTED: Gossypium raimondii cold-regulated 413 plasma membrane protein 2-like (LOC105780848), mRNA\n",
      "8.73954e-120\n",
      "GGAAAAAGG---GTTACTTGGCGATGAGGACTGACACTGATACTACTGATTTGATCAGTTCTGATCTCAGAGACC...\n",
      "||||||||    |||||||||| ||||||||| |    ||  | ||| ||  | |||||||||||  || ||| |...\n",
      "GGAAAAAGATGAGTTACTTGGCAATGAGGACTAAGCAAGAAGCAACTTATCAGCTCAGTTCTGATTACAAAGAGC...\n",
      "gi|1050586175|ref|XM_017758913.1| PREDICTED: Gossypium arboreum cold-regulated 413 plasma membrane protein 2-like (LOC108459527), mRNA\n",
      "1.06469e-118\n",
      "GGAAAAAGG---GTTACTTGGCGATGAGGACTGACACTGATACTACTGATTTGATCAGTTCTGATCTCAGAGACC...\n",
      "||||||||    |||||||||| ||||||||| |    ||  | ||| ||  | |||||||||||  || ||| |...\n",
      "GGAAAAAGATGAGTTACTTGGCAATGAGGACTCAGCAAGAAGCAACTTATCAGCTCAGTTCTGATTACAAAGAGC...\n",
      "gi|1027107741|ref|XM_008238505.2| PREDICTED: Prunus mume cold-regulated 413 plasma membrane protein 1-like (LOC103335494), mRNA\n",
      "1.06469e-118\n",
      "ATTGAAGATGGGGAAAAAGGGTTACTTGGCGATGAGGACTGACACTGATACTACTGATTTGATCAGTTCTGATCT...\n",
      "|||| ||||||  ||| || | ||||||   |||| ||||||  | ||| | | ||| ||||||   || |||||...\n",
      "ATTGGAGATGGCAAAACAGAGCTACTTGAAAATGATGACTGAACCAGATGCAAATGAATTGATCCACTCCGATCT...\n",
      "gi|1632219876|ref|XM_008389111.3| PREDICTED: Malus domestica cold-regulated 413 plasma membrane protein 1-like (LOC103449792), mRNA\n",
      "3.71615e-118\n",
      "AAAAAGGGTTACTTGGCGATGAGGACTGACACTGATACTACTGATTTGATCAGTTCTGATCTCAGAGACCTTGGT...\n",
      "||| || | ||||||  ||||| ||||||  ||||| |  | |||||||||||    ||| ||| ||| || || ...\n",
      "AAACAGAGCTACTTGAAGATGATGACTGAATCTGATGCCGCCGATTTGATCAGCAGCGATTTCAAAGAGCTCGGC...\n",
      "gi|1029031852|ref|XM_016824225.1| PREDICTED: Gossypium hirsutum cold-regulated 413 plasma membrane protein 2-like (LOC107898702), mRNA\n",
      "5.51525e-116\n",
      "GGAAAAAGG---GTTACTTGGCGATGAGGACTGACACTGATACTACTGATTTGATCAGTTCTGATCTCAGAGACC...\n",
      "||||||||    |||||||||| ||||||||| |    ||  | ||| ||  | |||||||||||  || ||| |...\n",
      "GGAAAAAGATGAGTTACTTGGCAATGAGGACTAAGCAAGAAGCAACTTATCAGCTCAGTTCTGATTACAAAGAGC...\n",
      "gi|1028975648|ref|XM_016875784.1| PREDICTED: Gossypium hirsutum cold-regulated 413 plasma membrane protein 2-like (LOC107942145), mRNA\n",
      "5.51525e-116\n",
      "GGAAAAAGG---GTTACTTGGCGATGAGGACTGACACTGATACTACTGATTTGATCAGTTCTGATCTCAGAGACC...\n",
      "||||||||    |||||||||| ||||||||| |    ||  | ||| ||  | |||||||||||  || ||| |...\n",
      "GGAAAAAGATGAGTTACTTGGCAATGAGGACTCAGCAAGAAGCAACTTATCAGCTCAGTTCTGATTACAAAGAGC...\n"
     ]
    }
   ],
   "source": [
    "for hit in blast_record.alignments:\n",
    "    for hsp in hit.hsps:\n",
    "      print(hit.title) \n",
    "      print(hsp.expect)\n",
    "      print(hsp.query[0:75] + '...')\n",
    "      print(hsp.match[0:75] + '...') \n",
    "      print(hsp.sbjct[0:75] + '...')"
   ]
  },
  {
   "cell_type": "code",
   "execution_count": 33,
   "metadata": {},
   "outputs": [
    {
     "name": "stdout",
     "output_type": "stream",
     "text": [
      "MATCH: gi|1105484513|ref|XM_002284686.3| PREDICTED: Vitis vinifera  \n",
      "0.0\n",
      "MATCH: gi|1420088022|gb|MG722853.1| Vitis vinifera cold-regulated 4 \n",
      "0.0\n",
      "MATCH: gi|123704572|emb|AM483681.1| Vitis vinifera, whole genome sh \n",
      "0.0\n",
      "MATCH: gi|1217007653|ref|XM_021787586.1| PREDICTED: Hevea brasilien \n",
      "9.95421e-151\n",
      "MATCH: gi|1217007651|ref|XM_021787585.1| PREDICTED: Hevea brasilien \n",
      "9.95421e-151\n"
     ]
    }
   ],
   "source": [
    "E_VALUE_THRESH = 1e-150\n",
    "for record in NCBIXML.parse(open(\"my_blast.xml\")):\n",
    "    for align in record.alignments: \n",
    "        for hsp in align.hsps:\n",
    "            if hsp.expect < E_VALUE_THRESH: \n",
    "                print(\"MATCH: %s \" % align.title[:60]) \n",
    "                print(hsp.expect)"
   ]
  },
  {
   "cell_type": "code",
   "execution_count": 34,
   "metadata": {},
   "outputs": [
    {
     "data": {
      "text/plain": [
       "'XM_002284686.3 PREDICTED: Vitis vinifera cold-regulated 413 plasma membrane protein 2 (LOC100248690), mRNA'"
      ]
     },
     "execution_count": 34,
     "metadata": {},
     "output_type": "execute_result"
    }
   ],
   "source": [
    "query.description"
   ]
  },
  {
   "cell_type": "code",
   "execution_count": null,
   "metadata": {},
   "outputs": [],
   "source": []
  }
 ],
 "metadata": {
  "kernelspec": {
   "display_name": "Python 3",
   "language": "python",
   "name": "python3"
  },
  "language_info": {
   "codemirror_mode": {
    "name": "ipython",
    "version": 3
   },
   "file_extension": ".py",
   "mimetype": "text/x-python",
   "name": "python",
   "nbconvert_exporter": "python",
   "pygments_lexer": "ipython3",
   "version": "3.7.5"
  }
 },
 "nbformat": 4,
 "nbformat_minor": 2
}
